{
 "cells": [
  {
   "attachments": {},
   "cell_type": "markdown",
   "id": "b4de37e0",
   "metadata": {},
   "source": [
    "# Priprava podatkov"
   ]
  },
  {
   "attachments": {},
   "cell_type": "markdown",
   "id": "c2ebc75d",
   "metadata": {},
   "source": [
    "Osnova projektne naloge bo [**Evidenca registriranih vozil**](https://podatki.gov.si/dataset/evidenca-registriranih-vozil-presek-stanja), ki vsebuje malo morje podatkov o vseh registriranih vozilih *(znamka, število prevoženih kilometrov, moč motorja, ...)* v določenem časovnem obdobju. Polega tega smo potrebovali še `obcine.csv` z imeni občin in `obcine.geojson` z mejami občin na zemljevidu."
   ]
  },
  {
   "attachments": {},
   "cell_type": "markdown",
   "id": "c850ce4d",
   "metadata": {},
   "source": [
    "## Knjižnice"
   ]
  },
  {
   "cell_type": "code",
   "execution_count": 1,
   "id": "4d1beeef",
   "metadata": {},
   "outputs": [],
   "source": [
    "import pandas as pd"
   ]
  },
  {
   "attachments": {},
   "cell_type": "markdown",
   "id": "08290b9a",
   "metadata": {},
   "source": [
    "## Branje podatkov"
   ]
  },
  {
   "attachments": {},
   "cell_type": "markdown",
   "id": "8fcf9f9a",
   "metadata": {},
   "source": [
    "Podatki za leto 2022 so zaradi prevelike količine razdeljeni v šest `.csv` datotek. Za naš projekt so zadostovali spodnji **atributi registracije vozil**."
   ]
  },
  {
   "cell_type": "code",
   "execution_count": 2,
   "id": "ab6df852",
   "metadata": {},
   "outputs": [],
   "source": [
    "columns = {'B-Datum prve registracije vozila',\n",
    " 'C13-Obcina uporabnika vozila (opis)',\n",
    " 'C2-Starost lastnika vozila',\n",
    " 'D1-Znamka',\n",
    " 'D3-Komerc oznaka',\n",
    " 'D42-Drzava (opis)',\n",
    " 'P12-Nazivna moc',\n",
    " 'P13-Vrsta goriva (opis)',\n",
    " 'J-Kategorija in vrsta vozila (opis)',\n",
    " 'V8-Kombinirana poraba goriva',\n",
    " 'Prevozeni kilometri milje'}"
   ]
  },
  {
   "attachments": {},
   "cell_type": "markdown",
   "id": "c5af0bf3",
   "metadata": {},
   "source": [
    "Z prebrali smo vseh 6 datotek, izločili nepotrebne stolpce in vrstice ter podatke shranili v `cars`."
   ]
  },
  {
   "cell_type": "code",
   "execution_count": 3,
   "id": "d80a6aa2",
   "metadata": {
    "scrolled": true
   },
   "outputs": [
    {
     "name": "stdout",
     "output_type": "stream",
     "text": [
      "Stored 'cars' (DataFrame)\n",
      "Stored 'population' (DataFrame)\n"
     ]
    }
   ],
   "source": [
    "files = ['data/raw_data/vozila2022_1.csv',\n",
    "         'data/raw_data/vozila2022_2.csv',\n",
    "         'data/raw_data/vozila2022_3.csv',\n",
    "         'data/raw_data/vozila2022_4.csv',\n",
    "         'data/raw_data/vozila2022_5.csv',\n",
    "         'data/raw_data/vozila2022_6.csv']\n",
    "\n",
    "for f in files:\n",
    "    # izbira stolpcev (atributi)\n",
    "    data = pd.read_csv(f, sep=';', encoding='dbcs', low_memory=False, on_bad_lines='skip')\n",
    "    # izbira vrstic (avtomobili)\n",
    "    data = data[data['J-Kategorija in vrsta vozila (opis)'] == 'osebni avtomobil']\n",
    "    cars = pd.concat([data])\n",
    "%store cars\n",
    "\n",
    "\n",
    "\n",
    "#podatki o populaciji Slovenije https://www.macrotrends.net/countries/SVN/slovenia/population\n",
    "population = pd.read_csv('data/slovenia-population1950_2022.csv',sep=',',encoding='utf-8', on_bad_lines='skip')\n",
    "%store population\n",
    "\n"
   ]
  },
  {
   "cell_type": "code",
   "execution_count": 4,
   "id": "fa4710e7",
   "metadata": {},
   "outputs": [
    {
     "name": "stdout",
     "output_type": "stream",
     "text": [
      "Stored 'cars' (DataFrame)\n",
      "Stored 'population' (DataFrame)\n"
     ]
    }
   ],
   "source": [
    "files = ['data/raw_data/vozila2022_1.csv',\n",
    "         'data/raw_data/vozila2022_2.csv',\n",
    "         'data/raw_data/vozila2022_3.csv',\n",
    "         'data/raw_data/vozila2022_4.csv',\n",
    "         'data/raw_data/vozila2022_5.csv',\n",
    "         'data/raw_data/vozila2022_6.csv']\n",
    "\n",
    "for f in files:\n",
    "    # izbira stolpcev (atributi)\n",
    "    data = pd.read_csv(f, sep=';', encoding='dbcs', usecols=columns, low_memory=False, on_bad_lines='skip')\n",
    "    # izbira vrstic (avtomobili)\n",
    "    data = data[data['J-Kategorija in vrsta vozila (opis)'] == 'osebni avtomobil']\n",
    "    cars = pd.concat([data])\n",
    "%store cars\n",
    "\n",
    "\n",
    "\n",
    "#podatki o populaciji Slovenije https://www.macrotrends.net/countries/SVN/slovenia/population\n",
    "population = pd.read_csv('data/slovenia-population1950_2022.csv',sep=',',encoding='utf-8', on_bad_lines='skip')\n",
    "%store population\n",
    "\n"
   ]
  },
  {
   "attachments": {},
   "cell_type": "markdown",
   "id": "8deaa7ee",
   "metadata": {},
   "source": [
    "## Popravljanje podatkov"
   ]
  },
  {
   "attachments": {},
   "cell_type": "markdown",
   "id": "2a9c26ec",
   "metadata": {},
   "source": [
    "Za uspešno vizualizacijo z zemeljevidom, razdeljenim na občine, smo bili primorani popraviti imena nekaterih občin. V surovih podatkih je črko `č` nadomeščal `c`, hkrati pa je bilo poimenovanje štirih občin napačno. Težavo smo rešili s **slovarjem preslikav**, kjer ključ predstavlja preslikavo na pravilno ime občine. "
   ]
  },
  {
   "cell_type": "code",
   "execution_count": 5,
   "id": "f542858c",
   "metadata": {
    "scrolled": false
   },
   "outputs": [],
   "source": [
    "wrong_comm_names = set(cars[\"C13-Obcina uporabnika vozila (opis)\"])\n",
    "\n",
    "correct_comm_names = pd.read_csv('data/obcine.csv', usecols=['OB_UIME'], low_memory=False)['OB_UIME'].tolist()\n",
    "\n",
    "comm_names_links = dict.fromkeys(wrong_comm_names)\n",
    "\n",
    "for c_name in correct_comm_names:\n",
    "    for w_name in wrong_comm_names:\n",
    "        \n",
    "        if c_name.lower().replace('c', '').replace('č', '') \\\n",
    "            == w_name.lower().replace('c', '').replace('č', ''):\n",
    "                \n",
    "            comm_names_links[w_name] = c_name\n",
    "            break\n",
    "            \n",
    "comm_names_links['Sveti Jurij'] = 'Sveti Jurij ob Ščavnici'\n",
    "comm_names_links['Šentjur pri Celju'] = 'Šentjur'\n",
    "comm_names_links['Ravne'] = 'Ravne na Koroškem'\n",
    "comm_names_links['Sveti Andraž v Slov.goricah'] = 'Sveti Andraž v Slov. goricah'"
   ]
  },
  {
   "attachments": {},
   "cell_type": "markdown",
   "id": "455afa87",
   "metadata": {},
   "source": [
    "Podatke smo shranili v slovar `comm_data`, kje kot vrednost hranimo podatke posamezne občine oziroma ključa. Slednji slovar je deljena spremenljivka med ostalimi **jupyter zvezki**."
   ]
  },
  {
   "cell_type": "code",
   "execution_count": 6,
   "id": "182cc0a6",
   "metadata": {
    "scrolled": true
   },
   "outputs": [
    {
     "name": "stdout",
     "output_type": "stream",
     "text": [
      "Stored 'comm_data' (dict)\n"
     ]
    }
   ],
   "source": [
    "comm_data = {comm_names_links[w_name]:cars[cars['C13-Obcina uporabnika vozila (opis)'] == w_name] for w_name in wrong_comm_names}\n",
    "del comm_data[None]\n",
    "%store comm_data"
   ]
  }
 ],
 "metadata": {
  "kernelspec": {
   "display_name": "Python 3 (ipykernel)",
   "language": "python",
   "name": "python3"
  },
  "language_info": {
   "codemirror_mode": {
    "name": "ipython",
    "version": 3
   },
   "file_extension": ".py",
   "mimetype": "text/x-python",
   "name": "python",
   "nbconvert_exporter": "python",
   "pygments_lexer": "ipython3",
   "version": "3.10.11"
  },
  "latex_envs": {
   "LaTeX_envs_menu_present": true,
   "autoclose": false,
   "autocomplete": true,
   "bibliofile": "biblio.bib",
   "cite_by": "apalike",
   "current_citInitial": 1,
   "eqLabelWithNumbers": true,
   "eqNumInitial": 1,
   "hotkeys": {
    "equation": "Ctrl-E",
    "itemize": "Ctrl-I"
   },
   "labels_anchors": false,
   "latex_user_defs": false,
   "report_style_numbering": false,
   "user_envs_cfg": false
  },
  "nbTranslate": {
   "displayLangs": [
    "*"
   ],
   "hotkey": "alt-t",
   "langInMainMenu": true,
   "sourceLang": "en",
   "targetLang": "fr",
   "useGoogleTranslate": true
  }
 },
 "nbformat": 4,
 "nbformat_minor": 5
}
