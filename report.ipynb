{
 "cells": [
  {
   "cell_type": "markdown",
   "metadata": {},
   "source": [
    "# Razmerje Slovencev z avtomobili\n",
    "\n",
    "Oskar Kocjančič, Miha Lazić, Matija Bajt, David Čadež\n",
    "\n",
    "---"
   ]
  },
  {
   "cell_type": "markdown",
   "metadata": {},
   "source": [
    "## Opis problema\n",
    "V današnjem svetu je vloga avtomobila pomembna kot še nikoli prej. Vsako jutro se usedemo v avto in odpeljemo v službo, v trgovino, na obisk k sorodnikom, pripeljemo nazaj domov, potem pa spet nekam drugam. Človek si življenja brez njega enostavno ne more več predstavljati. \n",
    "Pri tem problemu ne zaostajamo niti mi, Slovenci, saj [statistika](https://siol.net/avtomoto/novice/peto-mesto-v-evropi-tako-odvisni-smo-slovenci-od-avtomobilov-544642) pravi, da  po slovenskih cestah vozi kar 598 avtomobilov na 1000 ljudi, kar nas uvršča na samo peto mesto izmed vseh članic Evropske unije.\n",
    "Iz zgornjega dejstva lahko sklepamo, da med Slovencem in njegovim avtomobilom obstaja neko razmerje, ki ga bomo poskušali na najrazličnejše načine analizirati (več v razdelku [Cilji in vprašanja](#cilji-in-vprašanja)).  \n",
    "Osnova projektne naloge [**Evidenca registriranih vozil**](https://podatki.gov.si/dataset/evidenca-registriranih-vozil-presek-stanja), ki vsebuje malo morje podatkov o vseh registriranih vozilih *(znamka, število prevoženih kilometrov, moč motorja, ...)* v letu 2022."
   ]
  },
  {
   "cell_type": "markdown",
   "metadata": {},
   "source": [
    "## Cilji in vprašanja\n",
    "Glavni cilj projektne naloge je podrobneje spoznati razmerje med Slovencem in njegovim avtomobilom. Preučili ga bomo s preoblikovanje podatkov v odgovor na spodnja vprašanja. Te so le kaplja v morje vprašanj, na katera zgoraj omenjena baza podatkov ponuja odgovor. Osredotočili se bomo na tista, ki bodo prinesla neko uporabno znanje in so za povprečnega Slovenca privlačna. Vprašanja smo razdelili na 2 skupini, in sicer na bolj **Splošna vprašanja**, ki se tičejo celotnega prebivalstva Slovenije in na bolj **Specifična vprašanja**, kjer so rezultati demograsko grupirani po slovenskih občinah.\n",
    "\n",
    "#### Splošna vprašanja\n",
    "- *Najpopularnejše znamke avtomobilov*\n",
    "- *Število novoregistriranih avtomobilov skozi čas*\n",
    "- *Preferenca goriv skozi čas*\n",
    "- *Zmogljivost/Potrošnost avtomobilov posameznih starostnih skupin*\n",
    "\n",
    "#### Specifična vprašanja\n",
    "- *Povprečna starost lastnika po občinah*\n",
    "- *Najpopularnejša znamka avtomobila po občinah*\n",
    "- *Povprečna starost avtomobila po občinah*\n",
    "- *Povprečna moč avtomobila po občinah*\n",
    "- *Povprečno število prevoženih kilometrov po občinah*"
   ]
  },
  {
   "cell_type": "markdown",
   "metadata": {},
   "source": [
    "## Opis podatkov\n",
    "\n",
    "Osnova projektne naloge je bila [**Evidenca registriranih vozil**](https://podatki.gov.si/dataset/evidenca-registriranih-vozil-presek-stanja), ki vsebuje malo morje podatkov o vseh registriranih vozilih *(znamka, število prevoženih kilometrov, moč motorja, ...)* v določenem časovnem obdobju.\n",
    "\n",
    "Za nas so bili relavantni najaktualnejši podatki, in sicer 2 `.zip` datoteki s podatki o registriranih vozilih iz leta 2022:\n",
    "- *Vozila_OPSI_30062022*\n",
    "- *Vozila_OPSI_31.12.2022*\n",
    "\n",
    "Datoteki vsebujeta vsaka po 3 `.csv` datoteke, kjer ima vsaka cca. 650 000 vrstic in 99 stolpcev, kjer vrstica predstavlja registrirano vozilo, stolpec pa atribut pri registraciji. Za naš projekt smo od vrstic izluščili **avtomobile**, od stolpcev pa naslednje **atribute**:\n",
    "- *B-Datum prve registracije vozila*\n",
    "- *C13-Obcina uporabnika vozila (opis)*\n",
    "- *C2-Starost lastnika vozila*\n",
    "- *D1-Znamka*\n",
    "- *J-Kategorija in vrsta vozila (opis)*\n",
    "- *P12-Nazivna moc*\n",
    "- *P13-Vrsta goriva (opis)*\n",
    "- *P12-Nazivna moc*\n",
    "- *V8-Kombinirana poraba goriva*\n",
    "- *Prevozeni kilometri milje*\n",
    "\n",
    "Za potrebe vizualizacije demografskih vprašanj smo uporabili datoteko [**obcine.geojson**](https://github.com/stefanb/gurs-rpe/blob/master/data/OB.geojson) za izris občinskih mej in datoteko [**obcine.csv**](https://github.com/stefanb/gurs-rpe/blob/master/data/OB.csv) za rešitev problema s poimenovanjem občin, ki je opisan spodaj.\n",
    "\n",
    "---"
   ]
  },
  {
   "cell_type": "markdown",
   "metadata": {},
   "source": [
    "## Splošna vprašanja"
   ]
  },
  {
   "cell_type": "markdown",
   "metadata": {},
   "source": [
    "### Priprava podatkov\n",
    "Oskar Kocijančič mora to izpolniti"
   ]
  },
  {
   "cell_type": "markdown",
   "metadata": {},
   "source": [
    "### Izvedene analize"
   ]
  },
  {
   "cell_type": "markdown",
   "metadata": {},
   "source": [
    "#### Najpopularnejše znamke avtomobilov\n",
    "\n",
    "**Ugotovitve:** Najpopularnejša znamka avtomobila v Sloveniji je `Volkswagen`. Najverjetneje zaupanje tej znamki izhaja iz časov Jugoslavije, ko je po slovenskih cestah vozil Golf. Sledi ji francoski `Renault`, ki ga radi vozijo vozniki iz Novega mesta in okolice, kjer se nahaja proizvodnja le-tega.  \n",
    "Opazimo lahko tudi, da je najbolj priljubljena država izvora avtomobilov Nemčija, verjetno zaradi globalnega ugleda v avtomobilski industriji in splošne asociacije z visoko kakovostjo. Nemške znamke kot so Volkswagen, BMW, Mercedes-Benz in Audi so zelo priljubljene ne le v Sloveniji, ampak tudi po svetu. \n",
    "\n",
    "<img src=\"output/brands_treemap.png\" alt=\"\" width=\"1000\" ><br>"
   ]
  },
  {
   "cell_type": "markdown",
   "metadata": {},
   "source": [
    "#### Število novoregistriranih avtomobilov skozi čas\n",
    "\n",
    "**Ugotovitve:** Iz grafa je razvidno, da se je trend lasništva avtomobila strmo povečeval do leta 2008. Predvidevamo, da je trend zaradi gospodarske krize stagniral vse do leta  2017. Sledila je ponovna rast trenda, ampak s prihodom korone je zanimanje za avtomobil zelo vpadlo.\n",
    "\n",
    "<img src=\"output/registration_barplot.png\" alt=\"\" width=\"1000\" ><br>"
   ]
  },
  {
   "cell_type": "markdown",
   "metadata": {},
   "source": [
    "#### Preferenca goriva skozi čas\n",
    "\n",
    "**Ugotovitve:** Iz grafa je razvidno, da Slovenci povprečno raje kupujemo avtomobile na bencin. Zanimivo je obdobje med letoma 201 in 2017, ko je dizel prevladoval, a dosegel eno izmed najvišji cen v zgodovini Slovenije. V zadnjih parih letih lahko vidimo visok upad registracij dizelskih avtomobilov najverjetneje zaradi podražitve cene dizla in vsesplošnega vpliva medijev o \"pomembnosti\" globalnega segrevanja. Od leta 2012, ko je v Sloveniji bila kupljena [prva Tesla](https://siol.net/avtomoto/zgodbe/prvi-slovenski-kupec-tesle-podjetnik-jo-je-vplacal-na-podlagi-ene-fotografije-413837), se je pojavila nova oblika pogonskega goriva, in sicer elektrika.\n",
    "\n",
    "<img src=\"output/fuel_stacked.png\" alt=\"\" width=\"1000\" ><br>"
   ]
  },
  {
   "cell_type": "markdown",
   "metadata": {},
   "source": [
    "#### Zmogljivost/Potrošnost avtomobilov posameznih starostnih skupin\n",
    "\n",
    "**Ugotovitve:** Na podlagi ugotovitev lahko sklepamo, da imajo različne starostne skupine različne prioritete in preference glede zmogljivosti in porabe goriva avtomobilov.\n",
    "\n",
    "<img src=\"output/scatterplot_power_fuel-consumption.png\" alt=\"\" width=\"1000\" ><br>\n",
    "\n",
    "**Ugotovitve:** Mlajša generacija, znana Generacija Z (rojeni od sredine do konca 90-ih in kasneje), ima običajno manj zmogljive in manj potrošne avtomobile. To je lahko zaradi številnih dejavnikov, vključno z manjšim dohodkom, zanimanjem za okolju prijaznejše avtomobile ali preprosto manjšo potrebo po visoko zmogljivih vozilih.\n",
    "\n",
    "<img src=\"output/scatterplot_power_fuel-consumption_under25.png\" alt=\"\" width=\"1000\" ><br>\n",
    "\n",
    "**Ugotovitve:** Generacija Baby Boomers (rojeni med letoma 1946 in 1964), imajo po drugi strani pogosto zmogljivejše in bolj potrošne avtomobile. To je lahko posledica večje finančne stabilnosti, ki omogoča nakup dražjih in bolj zmogljivih vozil, ali pa prednost za tradicionalnejše avtomobile z večjimi motorji.\n",
    "\n",
    "<img src=\"output/scatterplot_power_fuel-consumption_between25and50.png\" alt=\"\" width=\"1000\" ><br>\n",
    "\n",
    "**Ugotovitve:** Za generacija Y (rojeni med zgodnjimi 80-imi in sredino 90-ih), se zdi, da je nekje vmes. Mnogi izmed njih se zanimajo za okolju prijaznejše avtomobile, vendar so tudi dovolj finančno stabilni, da si lahko privoščijo bolj zmogljive avtomobile. Vendar pa njihove odločitve verjetno niso enako usmerjene k visoki zmogljivosti kot tiste Baby Boomerjev, niti niso tako usmerjene k varčnosti kot tiste Generacije Z.\n",
    "\n",
    "<img src=\"output/scatterplot_power_fuel-consumption_over50.png\" alt=\"\" width=\"1000\" ><br>"
   ]
  },
  {
   "cell_type": "markdown",
   "metadata": {},
   "source": [
    "---\n",
    "## Specifična vprašanja"
   ]
  },
  {
   "cell_type": "markdown",
   "metadata": {},
   "source": [
    "### Priprava podatkov\n",
    "Najprej smo izbrane stolpce in vrstice prebrali v `Pandas DataFrame`. Želeli smo podatke grupirati po občinah, da bi podatke lažje vizualizirali na zemljevidu. Naleteli smo na težavo s kodiranjem, natančneje s črko `č` ki je bila predstavljena kot `c`, hkrati pa je bilo poimenovanje štirih občin napačno. To je predstavljalo problem, saj se podatki niso izrsiali na zemljevidu (zaradi napačnega imena občine v datoteki obcine.geojson). Težavo smo rešili s **slovarjem preslikav**, kjer ključ predstavlja preslikavo na pravilno ime občine. Sledila je priprava petih vizualizacij, ki so opisane v spodnjih poglavjih.\n",
    "\n",
    "Za uspešno vizualizacijo z zemljevidom, razdeljenim na občine, smo bili primorani popraviti imena nekaterih občin. V surovih podatkih so težave povzročali šumniki, hkrati pa je bilo poimenovanje nekaterih podatkov neustrezno. Prav tako smo pri delu s podatkov naleteli na manjkajoče in napačno vnesene vrednosti. "
   ]
  },
  {
   "cell_type": "markdown",
   "metadata": {},
   "source": [
    "### Izvedene analize"
   ]
  },
  {
   "cell_type": "markdown",
   "metadata": {},
   "source": [
    "#### Povprečna starost lastnika vozila po občinah\n",
    "\n",
    "**Rezultati:** Občina z najvišjo povprečno starostjo lastnika avtomobila je občina Šempeter-Vrtojba, s povprečno starostjo `54.99` leta. Občina z najnižjo povprečno starostjo lastnika avtomobilav je občina Cerkvenjak, s povprečno starostjo `47.16` leta. \n",
    "\n",
    "**Ugotovitev:** Iz zgornje vizualizacije lahko razberemo, da se najstarejši vozniki nahajajo na Primorskem. Najverjetnejši razlog je slabo urejen javni prevoz, kar primore k temu, da so starejši Slovenci primorani se voziti z avtom.\n",
    "\n",
    "![image](https://user-images.githubusercontent.com/75141731/232854168-3487c3d0-a9bb-4a07-9316-69f0f014409d.png)"
   ]
  },
  {
   "cell_type": "markdown",
   "metadata": {},
   "source": [
    "#### Povprečna starost avtomobila\n",
    "**Rezultati:** Občina z najvišjo povprečno starostjo avtomobila je občina Kanal, s povprečno starostjo `14.33` leta. Občina z najnižjo povprečno starostjo avtomobila je občina Trzin, s povprečno starostjo `9.5` leta.\n",
    "\n",
    "**Ugotovitev:** Iz zgornje vizualizacije lahko razberemo, da se najstarejši vozniki nahajajo na Primorskem. Najverjetnejši razlog je slabo urejen javni prevoz, kar primore k temu, da so starejši Slovenci primorani se voziti z avtom.\n",
    "\n",
    "![image](https://user-images.githubusercontent.com/75141731/232854462-5529f909-40e9-4c74-93d8-bf714e384096.png)"
   ]
  },
  {
   "cell_type": "markdown",
   "metadata": {},
   "source": [
    "#### Povprečna moč avtomobila\n",
    "\n",
    "**Rezultati:** Občina z najbolj močnimi avtomobili je občina Trzin, kjer ima avtomobil povprečno `127.89` konjskih moči. Občina z najšibkejšimi avtomobili je občina Kobilje, kjer ima avtomobil povprečno `103.13` konjskih moči.\n",
    "\n",
    "**Ugotovitve:** Iz vizualizacije je razvidno, da Slovenci, ki živijo v \"bogatejših\" in \"strmejših\" regijah vozijo močnejše avtomobile. To so občine iz `Notranjske` in `Koroške`. Zanimivo je, da se Povprečna moč avtomobila občine `Trzin` sovpada s popularno znamko (BMW).\n",
    "\n",
    "![image](https://user-images.githubusercontent.com/75141731/232854740-ad682c62-974a-405b-919d-b1e1f58773c5.png)"
   ]
  },
  {
   "cell_type": "markdown",
   "metadata": {},
   "source": [
    "#### Povprečno število prevoženih kilometrov\n",
    "\n",
    "**Rezultati:** Občina z največ povprečno prevoženimi kilometri je občina Zavrč, kjer posameznik v povprečju prevozi `228035.24` kilometrov s svojim jeklenim konjičkom.  \n",
    "Občina z najmanj povprečno prevoženimi kilometri je občina Trzin, kjer posameznik v povprečju prevozi `145868.85` kilometrov s svojim jeklenim konjičkom.\n",
    "\n",
    "**Ugotovitve:** Vizualizacija razkriva, da se Slovenci iz manj razvitih krajev dnevno vozijo na delo v oddaljena mesta. Za razliko od le-teh je videti, da Slovenci, ki živijo v razvitejši mestih ne toliko vozijo z avtomobilom na dnevni bazi, temveč raje uporabijo javni prevoz \n",
    "\n",
    "![image](https://user-images.githubusercontent.com/75141731/232854914-596a5867-eddd-405a-84be-5dc83962355a.png)"
   ]
  }
 ],
 "metadata": {
  "kernelspec": {
   "display_name": "Python 3 (ipykernel)",
   "language": "python",
   "name": "python3"
  },
  "language_info": {
   "codemirror_mode": {
    "name": "ipython",
    "version": 3
   },
   "file_extension": ".py",
   "mimetype": "text/x-python",
   "name": "python",
   "nbconvert_exporter": "python",
   "pygments_lexer": "ipython3",
   "version": "3.9.13"
  },
  "latex_envs": {
   "LaTeX_envs_menu_present": true,
   "autoclose": false,
   "autocomplete": true,
   "bibliofile": "biblio.bib",
   "cite_by": "apalike",
   "current_citInitial": 1,
   "eqLabelWithNumbers": true,
   "eqNumInitial": 1,
   "hotkeys": {
    "equation": "Ctrl-E",
    "itemize": "Ctrl-I"
   },
   "labels_anchors": false,
   "latex_user_defs": false,
   "report_style_numbering": false,
   "user_envs_cfg": false
  },
  "nbTranslate": {
   "displayLangs": [
    "*"
   ],
   "hotkey": "alt-t",
   "langInMainMenu": true,
   "sourceLang": "en",
   "targetLang": "fr",
   "useGoogleTranslate": true
  }
 },
 "nbformat": 4,
 "nbformat_minor": 2
}
